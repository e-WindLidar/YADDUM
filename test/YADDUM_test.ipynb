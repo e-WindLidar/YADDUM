{
 "cells": [
  {
   "cell_type": "markdown",
   "metadata": {},
   "source": [
    "YADDUM test"
   ]
  },
  {
   "cell_type": "code",
   "execution_count": 1,
   "metadata": {},
   "outputs": [],
   "source": [
    "import YADDUM as YADDUM\n",
    "import numpy as np  \n",
    "import matplotlib.pyplot as plt\n",
    "import xarray as xr"
   ]
  },
  {
   "cell_type": "code",
   "execution_count": 2,
   "metadata": {},
   "outputs": [],
   "source": [
    "lidar_uncertainty = YADDUM.Uncertainty()"
   ]
  },
  {
   "cell_type": "code",
   "execution_count": 3,
   "metadata": {},
   "outputs": [
    {
     "name": "stdout",
     "output_type": "stream",
     "text": [
      "Measurements 'mesh' added to the measurement dictionary, which now contains 1 measurement instance(s).\n",
      "Measurements 'pts' added to the measurement dictionary, which now contains 2 measurement instance(s).\n"
     ]
    }
   ],
   "source": [
    "lidar_uncertainty.add_measurements('mesh', 'horizontal_mesh', \n",
    "                                   resolution = 10, \n",
    "                                   mesh_center = np.array([0,0,100]), \n",
    "                                   extent = 1000)\n",
    "\n",
    "lidar_uncertainty.add_measurements('pts', 'points', \n",
    "                                  positions = np.array([[500,-500,100], [1000,2,300]]))"
   ]
  },
  {
   "cell_type": "code",
   "execution_count": 4,
   "metadata": {},
   "outputs": [
    {
     "name": "stdout",
     "output_type": "stream",
     "text": [
      "Atmosphere 'pl_1' added to the atmosphere dictionary, which now contains 1 atmosphere instance(s).\n"
     ]
    }
   ],
   "source": [
    "model_pars={'wind_speed':10,\n",
    "            'upward_air_velocity':0,\n",
    "            'wind_from_direction':0,\n",
    "            'reference_height':100,\n",
    "            'shear_exponent':0.2}\n",
    "lidar_uncertainty.add_atmosphere('pl_1', 'power_law', model_pars)"
   ]
  },
  {
   "cell_type": "code",
   "execution_count": 5,
   "metadata": {},
   "outputs": [
    {
     "name": "stdout",
     "output_type": "stream",
     "text": [
      "Instrument 'koshava' of category 'lidar' added to the instrument dictionary, which now contains 1 instrument(s).\n",
      "Instrument 'whittle' of category 'lidar' added to the instrument dictionary, which now contains 2 instrument(s).\n"
     ]
    }
   ],
   "source": [
    "uncertainty_pars = {'U_los':0.1,\n",
    "                    'U_azimuth':0.1,\n",
    "                    'U_elevation':0.1, \n",
    "                    'U_range':1}\n",
    "\n",
    "lidar_pos_1 = np.array([0,0,0])\n",
    "lidar_pos_2 = np.array([1000,1000,0])\n",
    "\n",
    "lidar_uncertainty.add_instrument('koshava', lidar_pos_1, **uncertainty_pars)\n",
    "lidar_uncertainty.add_instrument('whittle', lidar_pos_2, **uncertainty_pars)"
   ]
  },
  {
   "cell_type": "code",
   "execution_count": 6,
   "metadata": {},
   "outputs": [
    {
     "name": "stderr",
     "output_type": "stream",
     "text": [
      "/Volumes/Secondary_Drive/work/projects/dual-Doppler-uncertainty-model/YADDUM/_YADDUM.py:895: RuntimeWarning: divide by zero encountered in reciprocal\n",
      "  uncertainty =((wind_speed * (np.sin(angle_dif))**2)**-1 *\n",
      "/Volumes/Secondary_Drive/work/projects/dual-Doppler-uncertainty-model/YADDUM/_YADDUM.py:931: RuntimeWarning: divide by zero encountered in reciprocal\n",
      "  (wind_speed**4 * np.sin(angle_dif)**2)**-1\n"
     ]
    }
   ],
   "source": [
    "lidar_uncertainty.calculate_uncertainty(['koshava', 'whittle'],'mesh','pl_1', 'dual-Doppler')"
   ]
  },
  {
   "cell_type": "code",
   "execution_count": 7,
   "metadata": {},
   "outputs": [
    {
     "data": {
      "text/plain": [
       "<xarray.Dataset>\n",
       "Dimensions:                          (Easting: 201, Id: 2, Northing: 201)\n",
       "Coordinates:\n",
       "  * Id                               (Id) object 'koshava' 'whittle'\n",
       "  * Easting                          (Easting) int64 -1000 -990 ... 990 1000\n",
       "  * Northing                         (Northing) int64 -1000 -990 ... 990 1000\n",
       "    Height                           int64 100\n",
       "Data variables:\n",
       "    azimuth                          (Id, Northing, Easting) float64 225.0 ... 0.0\n",
       "    elevation                        (Id, Northing, Easting) float64 4.045 ... 90.0\n",
       "    range                            (Id, Northing, Easting) float64 1.418e+03 ... 100.0\n",
       "    radial_speed                     (Id, Northing, Easting) float64 -7.053 ... 6.123e-16\n",
       "    azimuth_gain                     (Id, Northing, Easting) float64 -0.7053 ... 0.0\n",
       "    elevation_gain                   (Id, Northing, Easting) float64 -1.945 ... -1.0\n",
       "    range_gain                       (Id, Northing, Easting) float64 -9.95e-05 ... 1.225e-19\n",
       "    radial_speed_uncertainty         (Id, Northing, Easting) float64 0.1063 ... 0.1015\n",
       "    inherited_uncertainty            (Id) object {'U_los': 0.1, 'U_range': 1, 'U_azimuth': 0.1, 'U_elevation': 0.1} {'U_los': 0.1, 'U_range': 1, 'U_azimuth': 0.1, 'U_elevation': 0.1}\n",
       "    wind_speed_uncertainty           (Northing, Easting) float64 inf ... 0.181\n",
       "    wind_from_direction_uncertainty  (Northing, Easting) float64 inf ... 0.5802\n",
       "Attributes:\n",
       "    title:              Dual-Doppler uncertainty\n",
       "    convention:         cf\n",
       "    uncertainty_model:  Vasiljevic-Courtney_dual-Doppler"
      ]
     },
     "execution_count": 7,
     "metadata": {},
     "output_type": "execute_result"
    }
   ],
   "source": [
    "lidar_uncertainty.uncertainty"
   ]
  },
  {
   "cell_type": "code",
   "execution_count": null,
   "metadata": {},
   "outputs": [],
   "source": [
    "azimuth_1 = self.uncertainty.azimuth.sel(Id = 'koshava').values\n",
    "azimuth_2 = self.uncertainty.azimuth.sel(Id = 'whittle').values"
   ]
  },
  {
   "cell_type": "code",
   "execution_count": 8,
   "metadata": {},
   "outputs": [
    {
     "data": {
      "text/plain": [
       "array([[10., 10., 10., ..., 10., 10., 10.],\n",
       "       [10., 10., 10., ..., 10., 10., 10.],\n",
       "       [10., 10., 10., ..., 10., 10., 10.],\n",
       "       ...,\n",
       "       [10., 10., 10., ..., 10., 10., 10.],\n",
       "       [10., 10., 10., ..., 10., 10., 10.],\n",
       "       [10., 10., 10., ..., 10., 10., 10.]])"
      ]
     },
     "execution_count": 8,
     "metadata": {},
     "output_type": "execute_result"
    }
   ],
   "source": [
    "lidar_uncertainty.wind_field.wind_speed.values"
   ]
  },
  {
   "cell_type": "code",
   "execution_count": null,
   "metadata": {},
   "outputs": [],
   "source": [
    "nrows = lidar_uncertainty.measurements['mesh']['nrows']\n",
    "ncols = lidar_uncertainty.measurements['mesh']['ncols']\n",
    "prob_cord = lidar_uncertainty.probing_dict['koshava'].reshape(nrows, ncols,3)\n",
    "rad_speed = lidar_uncertainty.radial_vel_dict['koshava'].reshape(nrows, ncols)\n",
    "coords = lidar_uncertainty.measurements['mesh']['positions']\n",
    "\n",
    "test = xr.Dataset({'temp':(['Northing', 'Easting'], lidar_uncertainty.wind_direction_uncertainty)},\n",
    "            \n",
    "                             coords={'Easting': np.unique(coords[:,0]), 'Northing': np.unique(coords[:,1])}\n",
    "                            )"
   ]
  },
  {
   "cell_type": "code",
   "execution_count": null,
   "metadata": {},
   "outputs": [],
   "source": [
    "test"
   ]
  },
  {
   "cell_type": "code",
   "execution_count": null,
   "metadata": {},
   "outputs": [],
   "source": [
    "lidar_uncertainty.wind_field.wind_from_direction.values.reshape(-1)"
   ]
  },
  {
   "cell_type": "code",
   "execution_count": null,
   "metadata": {},
   "outputs": [],
   "source": [
    "lidar_uncertainty.wind_field.attrs['model_parameters']['shear_exponent']"
   ]
  },
  {
   "cell_type": "code",
   "execution_count": null,
   "metadata": {},
   "outputs": [],
   "source": []
  },
  {
   "cell_type": "code",
   "execution_count": null,
   "metadata": {},
   "outputs": [],
   "source": [
    "MY_DPI = 96\n",
    "FONT_SIZE = 16\n",
    "STEP = 1\n",
    "MAP_EXTENT = 500\n",
    "\n",
    "\n",
    "lidar_uncertainty = YADDUM.LidarUncertainty()\n",
    "\n",
    "\n",
    "model_pars={'horizontal_speed':10,\n",
    "                  'vertical_speed':0,\n",
    "                  'wind_direction':0,\n",
    "                  'reference_height':100,\n",
    "                  'shear_exponent':0.2}\n",
    "\n",
    "uncertainty_pars = {'U_los':0.1,\n",
    "                    'U_azimuth':0.1,\n",
    "                    'U_elevation':0.1, \n",
    "                    'U_range':1}      \n",
    "\n",
    "# lidar_pos_1 = np.array([128.5, -1924,0]) # absolute position {446080, 6259660} \n",
    "# lidar_pos_2 = np.array([-128.5, 1924, 0]) # absolute position {445823, 6263508}\n",
    "lidar_pos_1 = np.array([0,0,0])\n",
    "\n",
    "\n",
    "_,_,meas_pts = YADDUM.generate_mesh(lidar_pos_1 + np.array([0, 0,100]), MAP_EXTENT, STEP)\n",
    "\n",
    "meas_pts = np.array([\n",
    "    [0,1000, 100],\n",
    "    [1000,1000, 100],\n",
    "    [1000,0, 100],\n",
    "    [1000,-1000, 100],    \n",
    "    [0,-1000,100],\n",
    "    [-1000,-1000,100],\n",
    "    [-1000,0,100],\n",
    "    [-1000,1000,100]\n",
    "])\n",
    "\n",
    "\n",
    "lidar_uncertainty.add_atmosphere('pl_1', 'power_law', model_pars)\n",
    "lidar_uncertainty.add_measurements('grid', meas_pts, atmosphere_id = 'pl_1')\n",
    "\n",
    "\n",
    "lidar_uncertainty.add_lidar('koshava', lidar_pos_1, **uncertainty_pars)\n",
    "# lidar_uncertainty.add_lidar('whittle', lidar_pos_2, **uncertainty_pars)\n",
    "\n",
    "lidar_uncertainty.calculate_uncertainty(['koshava'], 'grid', 'pl_1')\n",
    "\n"
   ]
  },
  {
   "cell_type": "code",
   "execution_count": null,
   "metadata": {},
   "outputs": [],
   "source": [
    "coords = lidar_uncertainty.lidars['koshava']['probing']['coordinates']\n",
    "uncert = lidar_uncertainty.lidars['koshava']['calculated_uncertainty']['elevation_gain']"
   ]
  },
  {
   "cell_type": "code",
   "execution_count": null,
   "metadata": {
    "scrolled": true
   },
   "outputs": [],
   "source": [
    "da = xr.DataArray(data=uncert.reshape(1,len(uncert)),\n",
    "                  coords={\"azimuth\": ([\"x\",\"y\"], coords[:,0].reshape(1,len(coords[:,0]))),\n",
    "                          \"elevation\": ([\"x\",\"y\"], coords[:,1].reshape(1,len(coords[:,1]))),\n",
    "                          \"range\": ([\"x\",\"y\"], coords[:,2].reshape(1,len(coords[:,2])))},\n",
    "                  dims=[\"x\",\"y\"])"
   ]
  },
  {
   "cell_type": "code",
   "execution_count": null,
   "metadata": {},
   "outputs": [],
   "source": [
    "da = xr.DataArray(data=uncert,\n",
    "                  coords={\"azimuth\": ([\"point\"], coords[:,0]),\n",
    "                          \"elevation\": ([\"point\"], coords[:,1]),\n",
    "                         \"range\": ([\"point\"], coords[:,2])},\n",
    "                  dims=[\"point\"])"
   ]
  },
  {
   "cell_type": "code",
   "execution_count": null,
   "metadata": {},
   "outputs": [],
   "source": [
    "\n",
    "ax = plt.subplot()\n",
    "da.plot(marker='o')\n",
    "ax.scatter(4, 0)"
   ]
  },
  {
   "cell_type": "code",
   "execution_count": null,
   "metadata": {},
   "outputs": [],
   "source": [
    "# some example from WEB\n",
    "\n",
    "np.random.seed(123)\n",
    "shape = (1,4)    # needs to be 2-dimensional, could be (2,2), (4,1)\n",
    "\n",
    "# all three arrays have the same shape\n",
    "temperature = 15 + 10 * np.random.randn(*shape)\n",
    "lat = np.random.uniform(low=-90, high=90, size=shape)\n",
    "lon = np.random.uniform(low=-180, high=180, size=shape)\n",
    "\n",
    "# round to two digits after decimal point\n",
    "temperature, lat , lon = np.around([temperature, lat, lon], decimals=2)\n",
    "\n",
    "da = xr.DataArray(data=temperature,\n",
    "                  coords={\"lat\": ([\"x\",\"y\"], lat),\n",
    "                          \"lon\": ([\"x\",\"y\"], lon)},\n",
    "                  dims=[\"x\",\"y\"])"
   ]
  },
  {
   "cell_type": "code",
   "execution_count": null,
   "metadata": {},
   "outputs": [],
   "source": [
    "tmp = {'mesh_center', 'extent', 'resolution'}"
   ]
  },
  {
   "cell_type": "code",
   "execution_count": null,
   "metadata": {},
   "outputs": [],
   "source": [
    "tmp2 = {'resolution','mesh_center', 'extent'}"
   ]
  },
  {
   "cell_type": "code",
   "execution_count": null,
   "metadata": {},
   "outputs": [],
   "source": [
    "tmp2 == tmp"
   ]
  },
  {
   "cell_type": "code",
   "execution_count": null,
   "metadata": {},
   "outputs": [],
   "source": []
  }
 ],
 "metadata": {
  "kernelspec": {
   "display_name": "Python 3",
   "language": "python",
   "name": "python3"
  },
  "language_info": {
   "codemirror_mode": {
    "name": "ipython",
    "version": 3
   },
   "file_extension": ".py",
   "mimetype": "text/x-python",
   "name": "python",
   "nbconvert_exporter": "python",
   "pygments_lexer": "ipython3",
   "version": "3.7.5"
  }
 },
 "nbformat": 4,
 "nbformat_minor": 2
}
