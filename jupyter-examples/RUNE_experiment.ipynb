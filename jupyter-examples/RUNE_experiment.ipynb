{
 "cells": [
  {
   "cell_type": "markdown",
   "metadata": {},
   "source": [
    "YADDUM test"
   ]
  },
  {
   "cell_type": "code",
   "execution_count": 1,
   "metadata": {},
   "outputs": [],
   "source": [
    "import yaddum as yaddum\n",
    "import numpy as np  \n",
    "import matplotlib.pyplot as plt\n",
    "import xarray as xr"
   ]
  },
  {
   "cell_type": "code",
   "execution_count": 2,
   "metadata": {},
   "outputs": [],
   "source": [
    "lidar_uncertainty = yaddum.Uncertainty()"
   ]
  },
  {
   "cell_type": "code",
   "execution_count": 3,
   "metadata": {},
   "outputs": [
    {
     "name": "stdout",
     "output_type": "stream",
     "text": [
      "Measurements 'mesh' added to the measurement dictionary, which now contains 1 measurement instance(s).\n",
      "Measurements 'pts' added to the measurement dictionary, which now contains 2 measurement instance(s).\n"
     ]
    }
   ],
   "source": [
    "lidar_uncertainty.add_measurements('mesh', 'horizontal_mesh', \n",
    "                                   resolution = 10, \n",
    "                                   mesh_center = np.array([0,0,100]), \n",
    "                                   extent = 1000)\n",
    "\n",
    "lidar_uncertainty.add_measurements('pts', 'points', \n",
    "                                  positions = np.array([[500,-500,100], [1000,2,300]]))"
   ]
  },
  {
   "cell_type": "code",
   "execution_count": 4,
   "metadata": {},
   "outputs": [
    {
     "name": "stdout",
     "output_type": "stream",
     "text": [
      "Atmosphere 'pl_1' added to the atmosphere dictionary, which now contains 1 atmosphere instance(s).\n"
     ]
    }
   ],
   "source": [
    "model_pars={'wind_speed':10,\n",
    "            'upward_air_velocity':0,\n",
    "            'wind_from_direction':0,\n",
    "            'reference_height':100,\n",
    "            'shear_exponent':0.2}\n",
    "lidar_uncertainty.add_atmosphere('pl_1', 'power_law', model_pars)"
   ]
  },
  {
   "cell_type": "code",
   "execution_count": 5,
   "metadata": {},
   "outputs": [
    {
     "name": "stdout",
     "output_type": "stream",
     "text": [
      "Instrument 'koshava' of category 'lidar' added to the instrument dictionary, which now contains 1 instrument(s).\n",
      "Instrument 'whittle' of category 'lidar' added to the instrument dictionary, which now contains 2 instrument(s).\n"
     ]
    }
   ],
   "source": [
    "uncertainty_pars = {'U_los':0.1,\n",
    "                    'U_azimuth':0.1,\n",
    "                    'U_elevation':0.1, \n",
    "                    'U_range':1}\n",
    "\n",
    "lidar_pos_1 = np.array([0,0,0])\n",
    "lidar_pos_2 = np.array([1000,1000,0])\n",
    "\n",
    "lidar_uncertainty.add_instrument('koshava', lidar_pos_1, **uncertainty_pars)\n",
    "lidar_uncertainty.add_instrument('whittle', lidar_pos_2, **uncertainty_pars)"
   ]
  },
  {
   "cell_type": "code",
   "execution_count": 6,
   "metadata": {},
   "outputs": [
    {
     "name": "stderr",
     "output_type": "stream",
     "text": [
      "/Volumes/Secondary_Drive/work/projects/YADDUM/yaddum/yaddum.py:1090: RuntimeWarning: divide by zero encountered in reciprocal\n",
      "  uncertainty =((wind_speed * (np.sin(angle_dif))**2)**-1 *\n",
      "/Volumes/Secondary_Drive/work/projects/YADDUM/yaddum/yaddum.py:1142: RuntimeWarning: divide by zero encountered in reciprocal\n",
      "  (wind_speed**4 * np.sin(angle_dif)**2)**-1\n"
     ]
    }
   ],
   "source": [
    "lidar_uncertainty.calculate_uncertainty(['koshava', 'whittle'],'mesh','pl_1', 'dual-Doppler')"
   ]
  },
  {
   "cell_type": "code",
   "execution_count": 7,
   "metadata": {},
   "outputs": [
    {
     "data": {
      "text/plain": [
       "<xarray.Dataset>\n",
       "Dimensions:                          (Easting: 201, Id: 2, Northing: 201)\n",
       "Coordinates:\n",
       "  * Id                               (Id) object 'koshava' 'whittle'\n",
       "  * Easting                          (Easting) int64 -1000 -990 ... 990 1000\n",
       "  * Northing                         (Northing) int64 -1000 -990 ... 990 1000\n",
       "    Height                           int64 100\n",
       "Data variables:\n",
       "    azimuth                          (Id, Northing, Easting) float64 225.0 ... 0.0\n",
       "    elevation                        (Id, Northing, Easting) float64 4.045 ... 90.0\n",
       "    range                            (Id, Northing, Easting) float64 1.418e+03 ... 100.0\n",
       "    radial_speed                     (Id, Northing, Easting) float64 -7.053 ... 6.123e-16\n",
       "    azimuth_gain                     (Id, Northing, Easting) float64 -0.7053 ... 0.0\n",
       "    elevation_gain                   (Id, Northing, Easting) float64 -1.945 ... -1.0\n",
       "    range_gain                       (Id, Northing, Easting) float64 -9.95e-05 ... 1.225e-19\n",
       "    radial_speed_uncertainty         (Id, Northing, Easting) float64 0.1063 ... 0.1015\n",
       "    inherited_uncertainty            (Id) object {'U_los': 0.1, 'U_range': 1, 'U_azimuth': 0.1, 'U_elevation': 0.1} {'U_los': 0.1, 'U_range': 1, 'U_azimuth': 0.1, 'U_elevation': 0.1}\n",
       "    wind_speed_uncertainty           (Northing, Easting) float64 inf ... 0.181\n",
       "    wind_from_direction_uncertainty  (Northing, Easting) float64 inf ... 0.5802\n",
       "Attributes:\n",
       "    title:              Dual-Doppler uncertainty\n",
       "    convention:         cf\n",
       "    uncertainty_model:  Vasiljevic-Courtney_dual-Doppler"
      ]
     },
     "execution_count": 7,
     "metadata": {},
     "output_type": "execute_result"
    }
   ],
   "source": [
    "lidar_uncertainty.uncertainty"
   ]
  },
  {
   "cell_type": "code",
   "execution_count": 8,
   "metadata": {},
   "outputs": [],
   "source": [
    "azimuth_1 = lidar_uncertainty.uncertainty.azimuth.sel(Id = 'koshava').values\n",
    "azimuth_2 = lidar_uncertainty.uncertainty.azimuth.sel(Id = 'whittle').values"
   ]
  },
  {
   "cell_type": "code",
   "execution_count": 9,
   "metadata": {},
   "outputs": [
    {
     "data": {
      "text/plain": [
       "<matplotlib.collections.QuadMesh at 0x11e26f7d0>"
      ]
     },
     "execution_count": 9,
     "metadata": {},
     "output_type": "execute_result"
    },
    {
     "data": {
      "image/png": "[encoded data removed]",
      "text/plain": [
       "<Figure size 432x288 with 2 Axes>"
      ]
     },
     "metadata": {
      "needs_background": "light"
     },
     "output_type": "display_data"
    }
   ],
   "source": [
    "lidar_uncertainty.uncertainty.azimuth.sel(Id = 'koshava').plot()"
   ]
  },
  {
   "cell_type": "code",
   "execution_count": null,
   "metadata": {},
   "outputs": [],
   "source": []
  }
 ],
 "metadata": {
  "kernelspec": {
   "display_name": "Python 3",
   "language": "python",
   "name": "python3"
  },
  "language_info": {
   "codemirror_mode": {
    "name": "ipython",
    "version": 3
   },
   "file_extension": ".py",
   "mimetype": "text/x-python",
   "name": "python",
   "nbconvert_exporter": "python",
   "pygments_lexer": "ipython3",
   "version": "3.7.5"
  }
 },
 "nbformat": 4,
 "nbformat_minor": 2
}
